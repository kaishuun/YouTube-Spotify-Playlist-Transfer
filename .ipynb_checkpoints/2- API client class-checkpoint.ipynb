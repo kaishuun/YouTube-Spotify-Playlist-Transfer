{
 "cells": [
  {
   "cell_type": "code",
   "execution_count": 1,
   "metadata": {},
   "outputs": [],
   "source": [
    "import requests \n",
    "import base64\n",
    "import datetime"
   ]
  },
  {
   "cell_type": "code",
   "execution_count": 1,
   "metadata": {},
   "outputs": [
    {
     "ename": "IndentationError",
     "evalue": "expected an indented block (<ipython-input-1-4c33cbd5083c>, line 13)",
     "output_type": "error",
     "traceback": [
      "\u001b[1;36m  File \u001b[1;32m\"<ipython-input-1-4c33cbd5083c>\"\u001b[1;36m, line \u001b[1;32m13\u001b[0m\n\u001b[1;33m    def extract_access_token(self):\u001b[0m\n\u001b[1;37m      ^\u001b[0m\n\u001b[1;31mIndentationError\u001b[0m\u001b[1;31m:\u001b[0m expected an indented block\n"
     ]
    }
   ],
   "source": [
    "class SpotifyAPI(object):\n",
    "    access_token = None\n",
    "    access_token_expires = datetime.datetime.now()\n",
    "    client_id = None\n",
    "    client_secre = None\n",
    "    \n",
    "    def _init_(self, client_id, client_secret):\n",
    "        self.client_id = client_id\n",
    "        self.client_secre = client_secret\n",
    "    \n",
    "    def get_client_credentials(self):\n",
    "        client_id = self.client_id\n",
    "        client_secret = self.client_secret\n",
    "        \n",
    "        if client_id == None or client_secret == None:\n",
    "            raise Exception(\"client_id or client_secret needs to be completed\")\n",
    "            \n",
    "        client_credentials = f\"{client_id}:{client_secret}\"\n",
    "        client_credentials_b64 = base64.b64encode(client_credentials.encode())\n",
    "        return client_credentials_b64.decode()\n",
    "    \n",
    "    def get_token_header(self):\n",
    "        return \"Authorization\":f\"Basic {client_credentials_b64.decode()}\"\n",
    "        \n",
    "    def get_token_data(self):\n",
    "        return \"grant_type\":\"client_credentials\"\n",
    "        \n",
    "    def extract_access_token(self):\n",
    "        token_url = \"https://accounts.spotify.com/api/token\"\n",
    "        method = \"POST\"\n",
    "        r = requests.post(token_url, data = token_data, headers = token_header)\n"
   ]
  },
  {
   "cell_type": "code",
   "execution_count": 2,
   "metadata": {},
   "outputs": [],
   "source": [
    "client_id = \"f2ace4e1b01a4385af648c12a8b0879e\"\n",
    "client_secret = \"1d0aa652e0e34680a4c13ee7d033402f\"\n",
    "user_id = \"3hoqlfah25ej3gr7e4x3vsf4c\""
   ]
  },
  {
   "cell_type": "code",
   "execution_count": 3,
   "metadata": {},
   "outputs": [],
   "source": [
    "#encodes to base64\n",
    "client_credentials = f\"{client_id}:{client_secret}\"\n",
    "client_credentials_b64 = base64.b64encode(client_credentials.encode())"
   ]
  },
  {
   "cell_type": "code",
   "execution_count": 4,
   "metadata": {},
   "outputs": [],
   "source": [
    "token_url = \"https://accounts.spotify.com/api/token\"\n",
    "method = \"POST\"\n",
    "token_data = {\n",
    "    \"grant_type\":\"client_credentials\"\n",
    "}\n",
    "token_header = {\n",
    "    \"Authorization\":f\"Basic {client_credentials_b64.decode()}\"\n",
    "}"
   ]
  },
  {
   "cell_type": "code",
   "execution_count": 7,
   "metadata": {},
   "outputs": [],
   "source": [
    "r = requests.post(token_url, data = token_data, headers = token_header)"
   ]
  },
  {
   "cell_type": "code",
   "execution_count": 6,
   "metadata": {},
   "outputs": [],
   "source": [
    "token_response_data = r.json()\n",
    "now = datetime.datetime.now()\n",
    "access_token = token_response_data[\"access_token\"]\n",
    "expires_in = token_response_data[\"expires_in\"]\n",
    "expires = now + datetime.timedelta(seconds = expires_in)\n",
    "did_expire = expires < now"
   ]
  },
  {
   "cell_type": "code",
   "execution_count": null,
   "metadata": {},
   "outputs": [],
   "source": []
  }
 ],
 "metadata": {
  "kernelspec": {
   "display_name": "Python 3",
   "language": "python",
   "name": "python3"
  },
  "language_info": {
   "codemirror_mode": {
    "name": "ipython",
    "version": 3
   },
   "file_extension": ".py",
   "mimetype": "text/x-python",
   "name": "python",
   "nbconvert_exporter": "python",
   "pygments_lexer": "ipython3",
   "version": "3.7.6"
  }
 },
 "nbformat": 4,
 "nbformat_minor": 4
}
