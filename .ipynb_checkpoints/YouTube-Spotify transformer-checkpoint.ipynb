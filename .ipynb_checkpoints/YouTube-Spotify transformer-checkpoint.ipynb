{
 "cells": [
  {
   "cell_type": "code",
   "execution_count": 11,
   "metadata": {},
   "outputs": [],
   "source": [
    "import requests \n",
    "import base64\n",
    "import datetime\n",
    "from urllib.parse import urlencode\n",
    "import json"
   ]
  },
  {
   "cell_type": "code",
   "execution_count": 2,
   "metadata": {},
   "outputs": [],
   "source": [
    "#information to fill out\n",
    "user_id = \"3hoqlfah25ej3gr7e4x3vsf4c\"\n",
    "client_id = \"f2ace4e1b01a4385af648c12a8b0879e\"\n",
    "secret_client = \"1d0aa652e0e34680a4c13ee7d033402f\"\n",
    "spotify_token = \"BQAciqmdhVQVsdivL-J4cFt8gb5HFSutv0GzsPfEAxse9NUyrgYIT7hr00DF-Cfwe3olqRAJH_Ypl2fhOAWfetEUI09hd30zAJcjN4Gyn5PX6ZYcT32v6HorEdCEvvoyfDCovKRsyn8vklG54xJLvOUMOz6RNYcM7YTpTfe-fdiCHkFjQDQKstInYPUbFjf-r40maOkqzMrzntMQJgdOAu6r6bNoEtMf\""
   ]
  },
  {
   "cell_type": "code",
   "execution_count": 3,
   "metadata": {},
   "outputs": [],
   "source": [
    "class YouTubeMusic(object):\n",
    "    user_id = None\n",
    "    client_id = None\n",
    "    secret_client = None\n",
    "    spotify_token = None\n",
    "    \n",
    "    def __init__(self,user_id,client_id,secret_client,spotify_token):\n",
    "        '''\n",
    "        initializes user_id, client_id, secret_client, spotify_token\n",
    "        '''\n",
    "        self.user_id = user_id\n",
    "        self.client_id = client_id\n",
    "        self.secret_client = secret_client\n",
    "        self.spotify_token = spotify_token\n",
    "    \n",
    "    def newplaylist(self, name = \"new playlist\", public = True, collaborative = False):\n",
    "        #creates a new empty spotify playlist\n",
    "        endpoint = f\"https://api.spotify.com/v1/users/{self.user_id}/playlists\"\n",
    "        header = {\n",
    "                    \"Authorization\":f\"Bearer {self.spotify_token}\",\n",
    "                    \"Content-Type\":\"application/json\"\n",
    "                }\n",
    "        r = requests.post(endpoint,data = json.dumps({\"name\":name, \"public\":public,\"collaborative\":collaborative}), headers = header)\n",
    "       \n",
    "        #returns a playlist if successful, if not it prints a failure message\n",
    "        if r.status_code in range(200,299):\n",
    "            return(r.json()[\"id\"])\n",
    "            print(\"playlist:\",name, \"created\")\n",
    "        else:\n",
    "            print(\"playlist not created\")\n",
    "        \n",
    "    def search(self,title, spec):\n",
    "        endpoint = \"https://api.spotify.com/v1/search\"\n",
    "        header = headers = {\"Authorization\":f\"Bearer {self.spotify_token}\"}\n",
    "\n",
    "        data = urlencode({\"q\":title,\n",
    "               \"type\":spec.lower(),\n",
    "                \"limit\":1})\n",
    "\n",
    "        lookup_url = f\"{endpoint}?{data}\"\n",
    "        #queries for a title and return {} if not found, else returns the json \n",
    "        r = requests.get(lookup_url, headers = header)\n",
    "        if r.status_code in range(200,299):\n",
    "            return r.json()\n",
    "        else:\n",
    "            print(title, \"not found\")\n",
    "            return {}\n",
    "\n",
    "\n",
    "    def search_get_uri(self,title,spec):\n",
    "        #gets the uri from the search, if not successful returns {}\n",
    "        result =  self.search(title,spec)\n",
    "        try:\n",
    "            return result[\"tracks\"][\"items\"][0][\"uri\"]\n",
    "        except:\n",
    "            return '';\n",
    "    \n",
    "    def addsong(self,title,playlist_id):\n",
    "        #gets the uris from each and if the uri is not found it is skipped\n",
    "        if playlist_id == None:\n",
    "            raise Exception(\"No playlist is selected\")\n",
    "            \n",
    "        endpoint = f\"https://api.spotify.com/v1/playlists/{playlist_id}/tracks\"\n",
    "        header = {\n",
    "                    \"Authorization\":f\"Bearer {self.spotify_token}\",\n",
    "                    \"Content-Type\":\"application/json\"\n",
    "                }\n",
    "        \n",
    "        track_uri = self.search_get_uri(title,\"track\")\n",
    "        if not track_uri:\n",
    "            print(title,\"not added to playlist\")\n",
    "            return\n",
    "        else:\n",
    "            data = urlencode({\"uris\":track_uri})\n",
    "        \n",
    "            #final checks to check song validity\n",
    "            lookup_url = f\"{endpoint}?{data}\"\n",
    "            r = requests.post(lookup_url,headers = header)\n",
    "            if r.status_code not in range(200,299):\n",
    "                print(title, \"not added to playlist\")\n",
    "            else:\n",
    "                print(r.json(),title, \"added to playlist\")\n",
    "    \n",
    "    def multiadd(self,titles, playlist_id):\n",
    "        for title in titles:\n",
    "            self.addsong(title,playlist_id)"
   ]
  },
  {
   "cell_type": "code",
   "execution_count": 4,
   "metadata": {},
   "outputs": [],
   "source": [
    "client = YouTubeMusic(user_id,client_id,secret_client,spotify_token)"
   ]
  },
  {
   "cell_type": "code",
   "execution_count": 10,
   "metadata": {},
   "outputs": [
    {
     "name": "stdout",
     "output_type": "stream",
     "text": [
      "https://api.spotify.com/v1/playlists/4uiG0YC2urGdoruhVnsAAN/tracks?uris=spotify%3Atrack%3A4Oun2ylbjFKMPTiaSbbCih\n",
      "{'snapshot_id': 'MixiM2Y1ZDJlYTdmNzcxNzkzMjcwYjQ1YmRhZWIyZTQwNmI3MDRmYjM3'} WAP added to playlist\n",
      "https://api.spotify.com/v1/playlists/4uiG0YC2urGdoruhVnsAAN/tracks?uris=spotify%3Atrack%3A3nxfUrrTVUPxsuNbEdFprI\n",
      "{'snapshot_id': 'Myw3ZTE0YTI3Y2ZjYzY2YjhjMzdlZTk0OTFhMDE3NGNjZjY1MmIyN2Iz'} S14/7/365 added to playlist\n",
      "https://api.spotify.com/v1/playlists/4uiG0YC2urGdoruhVnsAAN/tracks?uris=spotify%3Atrack%3A3jjujdWJ72nww5eGnfs2E7\n",
      "{'snapshot_id': 'NCxmZDM3NzFlYzVlYjg5MzcwYzE0NzJkM2VkMTRjMmY5MmQ0YWJjNzRm'} Adore You added to playlist\n"
     ]
    }
   ],
   "source": [
    "temp = client.newplaylist(name = \"single dogs\")\n",
    "client.multiadd([\"WAP\",\"S14/7/365\",\"Adore You\"], temp)"
   ]
  },
  {
   "cell_type": "code",
   "execution_count": null,
   "metadata": {},
   "outputs": [],
   "source": []
  }
 ],
 "metadata": {
  "kernelspec": {
   "display_name": "Python 3",
   "language": "python",
   "name": "python3"
  },
  "language_info": {
   "codemirror_mode": {
    "name": "ipython",
    "version": 3
   },
   "file_extension": ".py",
   "mimetype": "text/x-python",
   "name": "python",
   "nbconvert_exporter": "python",
   "pygments_lexer": "ipython3",
   "version": "3.7.6"
  }
 },
 "nbformat": 4,
 "nbformat_minor": 4
}
