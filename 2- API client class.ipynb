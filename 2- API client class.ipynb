{
 "cells": [
  {
   "cell_type": "code",
   "execution_count": 192,
   "metadata": {},
   "outputs": [],
   "source": [
    "import requests \n",
    "import base64\n",
    "import datetime\n",
    "from urllib.parse import urlencode\n",
    "import pandas as pd\n",
    "import json"
   ]
  },
  {
   "cell_type": "code",
   "execution_count": 193,
   "metadata": {},
   "outputs": [],
   "source": [
    "class SpotifyAPI(object):\n",
    "    access_token = None\n",
    "    client_id = None\n",
    "    user_id = None\n",
    "    client_secret = None\n",
    "    token_url = \"https://accounts.spotify.com/api/token\"\n",
    "    \n",
    "    def __init__(self, client_id, client_secret, user_id):\n",
    "        self.client_id = client_id\n",
    "        self.client_secret = client_secret\n",
    "        self.user_id = user_id\n",
    "    \n",
    "    def get_client_credentials(self):\n",
    "        client_id = self.client_id\n",
    "        client_secret = self.client_secret\n",
    "        \n",
    "        if client_id == None or client_secret == None:\n",
    "            raise Exception(\"client_id or client_secret needs to be completed\")\n",
    "            \n",
    "        client_credentials = f\"{client_id}:{client_secret}\"\n",
    "        client_credentials_b64 = base64.b64encode(client_credentials.encode())\n",
    "        return client_credentials_b64.decode()\n",
    "    \n",
    "    def get_token_header(self):\n",
    "        return {\"Authorization\":f\"Basic {self.get_client_credentials()}\"}\n",
    "        \n",
    "    def get_token_data(self):\n",
    "        return {\"grant_type\":\"client_credentials\"}\n",
    "        \n",
    "    def perform_auth(self):\n",
    "        token_url = self.token_url\n",
    "        token_data = self.get_token_data()\n",
    "        token_headers = self.get_token_header()\n",
    "        \n",
    "\n",
    "        r = requests.post(token_url, data = token_data, headers = token_headers)\n",
    "        \n",
    "        data = r.json()\n",
    "        now = datetime.datetime.now()\n",
    "        self.access_token = data[\"access_token\"]\n",
    "        \n",
    "    def search(self, track_name, search_type = \"artist\"):\n",
    "        endpoint = \"https://api.spotify.com/v1/search\"\n",
    "        header = self.get_resource_header()\n",
    "        data = urlencode({\"q\":track_name,\n",
    "               \"type\":search_type.lower()})\n",
    "        lookup_url = f\"{endpoint}?{data}\"\n",
    "\n",
    "        r = requests.get(lookup_url, headers = header)\n",
    "        if r.status_code in range(200,299):\n",
    "            return r.json()\n",
    "        return {}\n",
    "    \n",
    "\n",
    "        \n",
    "    def get_resource_header(self):\n",
    "        header = {\n",
    "            \"Authorization\":f\"Bearer {self.access_token}\"\n",
    "        }\n",
    "        return header\n",
    "    \n",
    "    def get_resource(self, lookup_id, resource_type = 'albums'):\n",
    "        endpoint = f\"https://api.spotify.com/v1/{resource_type}/{lookup_id}\"\n",
    "        header = self.get_resource_header()\n",
    "        r = requests.get(endpoint,headers = header)\n",
    "        return r.json()\n",
    "    \n",
    "    def get_artist(self, _id):\n",
    "        return self.get_resource(_id,resource_type = \"artists\")\n",
    "    \n",
    "    def get_album(self, _id):\n",
    "        return self.get_resource(_id,resource_type = \"albums\")\n",
    "    \n",
    "    def new_playlist(self,user_id):\n",
    "        pass\n",
    "        \n",
    "        "
   ]
  },
  {
   "cell_type": "code",
   "execution_count": 194,
   "metadata": {},
   "outputs": [],
   "source": [
    "#enter the client id, client secret, and spotify ID\n",
    "client_id = \"f2ace4e1b01a4385af648c12a8b0879e\"\n",
    "client_secret = \"1d0aa652e0e34680a4c13ee7d033402f\"\n",
    "user_id = \"3hoqlfah25ej3gr7e4x3vsf4c\"\n",
    "\n",
    "spotify = SpotifyAPI(client_id,client_secret, user_id)\n"
   ]
  },
  {
   "cell_type": "code",
   "execution_count": 195,
   "metadata": {},
   "outputs": [],
   "source": [
    "spotify.perform_auth()"
   ]
  },
  {
   "cell_type": "code",
   "execution_count": 196,
   "metadata": {},
   "outputs": [],
   "source": [
    "endpoint = f\"https://api.spotify.com/v1/users/{user_id}/playlists\"\n",
    "token = \"BQD3ji2oUQUIB3Heor6-BbJ3aP8Mr2alPaoblnIJnc-sx7AgB9VWlRDHnUHxkDaFIg2kzsFB4ZhGxwhLCfn5b_Og0dCM6S7iS2ElvwWyacMavJVK6Wh1bjVYl0N1pQvfY0kVIlm8w1-wdJclO1_1aymhwPo9EutSjQnMcc6kufKOB79aePZXUrrDllZbE63lFfPnEsGdCfHJyWwVT5DDIKCRJzb17HrZ\"\n",
    "header = {\n",
    "            \"Authorization\":\"Bearer {}\".format(token),\n",
    "            \"Content-Type\":\"application/json\"\n",
    "        }\n",
    "r = requests.post(endpoint,data = json.dumps({\"name\":\"hello\"}), headers = header)"
   ]
  },
  {
   "cell_type": "code",
   "execution_count": 197,
   "metadata": {},
   "outputs": [
    {
     "data": {
      "text/plain": [
       "{'collaborative': False,\n",
       " 'description': None,\n",
       " 'external_urls': {'spotify': 'https://open.spotify.com/playlist/41BdszaR4w7OFs7v5npUVM'},\n",
       " 'followers': {'href': None, 'total': 0},\n",
       " 'href': 'https://api.spotify.com/v1/playlists/41BdszaR4w7OFs7v5npUVM',\n",
       " 'id': '41BdszaR4w7OFs7v5npUVM',\n",
       " 'images': [],\n",
       " 'name': 'hello',\n",
       " 'owner': {'display_name': 'Kevin',\n",
       "  'external_urls': {'spotify': 'https://open.spotify.com/user/3hoqlfah25ej3gr7e4x3vsf4c'},\n",
       "  'href': 'https://api.spotify.com/v1/users/3hoqlfah25ej3gr7e4x3vsf4c',\n",
       "  'id': '3hoqlfah25ej3gr7e4x3vsf4c',\n",
       "  'type': 'user',\n",
       "  'uri': 'spotify:user:3hoqlfah25ej3gr7e4x3vsf4c'},\n",
       " 'primary_color': None,\n",
       " 'public': True,\n",
       " 'snapshot_id': 'MSwyOGJjMjE0MWFiNTRiMDI1YzlkMjJkY2NjMDE1ZTFmMWIwNDhjNTFh',\n",
       " 'tracks': {'href': 'https://api.spotify.com/v1/playlists/41BdszaR4w7OFs7v5npUVM/tracks',\n",
       "  'items': [],\n",
       "  'limit': 100,\n",
       "  'next': None,\n",
       "  'offset': 0,\n",
       "  'previous': None,\n",
       "  'total': 0},\n",
       " 'type': 'playlist',\n",
       " 'uri': 'spotify:playlist:41BdszaR4w7OFs7v5npUVM'}"
      ]
     },
     "execution_count": 197,
     "metadata": {},
     "output_type": "execute_result"
    }
   ],
   "source": [
    "r.json()"
   ]
  },
  {
   "cell_type": "code",
   "execution_count": 158,
   "metadata": {},
   "outputs": [
    {
     "data": {
      "text/plain": [
       "'https://accounts.spotify.com/login?continue=https%3A%2F%2Faccounts.spotify.com%2Fauthorize%3Fclient_id%3Df2ace4e1b01a4385af648c12a8b0879e%26response_type%3Dcode%26redirect_uri%3Dhttps%253A%252F%252Fexample.com%252Fcallback'"
      ]
     },
     "execution_count": 158,
     "metadata": {},
     "output_type": "execute_result"
    }
   ],
   "source": [
    "endpoint = \"https://accounts.spotify.com/authorize\"\n",
    "data = urlencode({\"client_id\":spotify.client_id,\n",
    "               \"response_type\":\"code\",\n",
    "                 \"redirect_uri\":'https://example.com/callback'})\n",
    "lookup_url = f\"{endpoint}?{data}\"\n",
    "r = requests.get(lookup_url)\n",
    "r.url"
   ]
  },
  {
   "cell_type": "code",
   "execution_count": 162,
   "metadata": {},
   "outputs": [
    {
     "data": {
      "text/plain": [
       "'\\n<!DOCTYPE html>\\n<html id=\"app\" lang=\"en\" dir=\"ltr\" ng-csp ng-strict-di>\\n<head>\\n  <meta charset=\"utf-8\">\\n  <title ng-bind=\"(&#39;loginTitle&#39; | localize) + &#39; - Spotify&#39;\">Spotify</title>\\n  <meta name=\"viewport\" content=\"width=device-width, initial-scale=1.0, maximum-scale=1.0, user-scalable=no\">\\n  <base href=\"/\">\\n  <link rel=\"icon\" href=\"https://accounts.scdn.co/images/favicon.ace4d8543bbb017893402a1e9d1ac1fa.ico\">\\n  <link href=\"https://accounts.scdn.co/css/index.eeaa6d4523dd0f6a9559.css\" media=\"screen\" rel=\"stylesheet\">\\n\\n  <script defer src=\"https://accounts.scdn.co/js/index.eeaa6d4523dd0f6a9559.js\" sp-bootstrap></script>\\n  <meta ng-non-bindable sp-bootstrap-data=\\'{\"phoneFeatureEnabled\":false,\"previewEnabled\":false,\"user\":false,\"tpaState\":\"AQDdLb03edVpeq4QphKClityD1fOwieS5xR6y/16Hotagfn9XeovK9eELhQuwoozP4eWvnTtVb3U2JqG7E9ELYLWuyj3I5csKKicUV3iFJOVvI9PjzHP/ttvNrpLMbcJiOTiQDq7RSIUULV+eOOXP5Jcc1gm+oQxQfGw3x3DDvKwYIKGchFdZnvrX73R/rJBISpc50h/RXauimjb/z/TWeLitUaVsRRyFQ3vZ69c36Ck8knYVU9+nDUfrCOiURp258RBufuNTIRrC+tkZs+IatqGKuFYnC3wzQFp/8MChfgj1cj5G00wYkwVhOEYk+NkNm9FpBVdT7zJTop7kMk66DtRQa9F8/TgQBsgHGf9bxyYYEarfnHPn0+ZNvdCpYSHwDcB7tnc8rJCUy0=\",\"BON\":[\"0\",\"0\",-1959931810]}\\'>\\n</head>\\n<body ng-controller=\"LoginController\">\\n  <div ng-include=\"template\"></div>\\n</body>\\n</html>\\n'"
      ]
     },
     "execution_count": 162,
     "metadata": {},
     "output_type": "execute_result"
    }
   ],
   "source": [
    "r.text"
   ]
  },
  {
   "cell_type": "code",
   "execution_count": null,
   "metadata": {},
   "outputs": [],
   "source": []
  }
 ],
 "metadata": {
  "kernelspec": {
   "display_name": "Python 3",
   "language": "python",
   "name": "python3"
  },
  "language_info": {
   "codemirror_mode": {
    "name": "ipython",
    "version": 3
   },
   "file_extension": ".py",
   "mimetype": "text/x-python",
   "name": "python",
   "nbconvert_exporter": "python",
   "pygments_lexer": "ipython3",
   "version": "3.7.6"
  }
 },
 "nbformat": 4,
 "nbformat_minor": 4
}
