{
 "cells": [
  {
   "cell_type": "code",
   "execution_count": 1,
   "metadata": {},
   "outputs": [],
   "source": [
    "import requests \n",
    "import base64\n",
    "import datetime"
   ]
  },
  {
   "cell_type": "code",
   "execution_count": 2,
   "metadata": {},
   "outputs": [],
   "source": [
    "client_id = \"f2ace4e1b01a4385af648c12a8b0879e\"\n",
    "client_secret = \"1d0aa652e0e34680a4c13ee7d033402f\"\n",
    "user_id = \"3hoqlfah25ej3gr7e4x3vsf4c\""
   ]
  },
  {
   "cell_type": "code",
   "execution_count": 3,
   "metadata": {},
   "outputs": [],
   "source": [
    "#encodes to base64\n",
    "client_credentials = f\"{client_id}:{client_secret}\"\n",
    "client_credentials_b64 = base64.b64encode(client_credentials.encode())"
   ]
  },
  {
   "cell_type": "code",
   "execution_count": 4,
   "metadata": {},
   "outputs": [],
   "source": [
    "token_url = \"https://accounts.spotify.com/api/token\"\n",
    "method = \"POST\"\n",
    "token_data = {\n",
    "    \"grant_type\":\"client_credentials\"\n",
    "}\n",
    "token_header = {\n",
    "    \"Authorization\":f\"Basic {client_credentials_b64.decode()}\"\n",
    "}"
   ]
  },
  {
   "cell_type": "code",
   "execution_count": 7,
   "metadata": {},
   "outputs": [],
   "source": [
    "r = requests.post(token_url, data = token_data, headers = token_header)"
   ]
  },
  {
   "cell_type": "code",
   "execution_count": 6,
   "metadata": {},
   "outputs": [],
   "source": [
    "token_response_data = r.json()\n",
    "now = datetime.datetime.now()\n",
    "access_token = token_response_data[\"access_token\"]\n",
    "expires_in = token_response_data[\"expires_in\"]\n",
    "expires = now + datetime.timedelta(seconds = expires_in)\n",
    "did_expire = expires < now"
   ]
  },
  {
   "cell_type": "code",
   "execution_count": null,
   "metadata": {},
   "outputs": [],
   "source": []
  }
 ],
 "metadata": {
  "kernelspec": {
   "display_name": "Python 3",
   "language": "python",
   "name": "python3"
  },
  "language_info": {
   "codemirror_mode": {
    "name": "ipython",
    "version": 3
   },
   "file_extension": ".py",
   "mimetype": "text/x-python",
   "name": "python",
   "nbconvert_exporter": "python",
   "pygments_lexer": "ipython3",
   "version": "3.7.6"
  }
 },
 "nbformat": 4,
 "nbformat_minor": 4
}
